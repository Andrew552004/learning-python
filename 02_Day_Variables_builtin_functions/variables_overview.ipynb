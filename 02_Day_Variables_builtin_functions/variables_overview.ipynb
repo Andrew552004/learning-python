{
 "cells": [
  {
   "cell_type": "markdown",
   "metadata": {},
   "source": [
    "# Python Variables Tutorial\n",
    "\n",
    "## 1. Introduction to Variables\n",
    "\n",
    "Variables are fundamental building blocks in programming. They act as containers for storing data values, allowing you to manipulate and reference that data throughout your code. In Python, variables are dynamically typed, meaning you don't need to explicitly declare their type—Python infers it based on the value assigned.\n",
    "\n",
    "- **Dynamic Typing:** Python automatically infers the variable type based on its value\n",
    "- **Flexible:** Can store different types of data\n",
    "- **Readable:** Should use clear, descriptive names\n",
    "\n",
    "### 2. What are Variable Types?\n",
    "\n",
    "Data types define the nature of data that a computer can process, store, and manipulate. They determine:\n",
    "\n",
    "- How the data is stored in memory\n",
    "- What operations can be performed on it\n",
    "- The methods and functions available for that data\n",
    "\n",
    "Python supports several built-in data types, including:\n",
    "\n",
    "- **Strings**: Text data (e.g., `\"Hello, World!\"`)\n",
    "- **Integers**: Whole numbers (e.g., `42`)\n",
    "- **Floats**: Decimal numbers (e.g., `3.14`)\n",
    "- **Booleans**: True or False values (e.g., `True`)\n",
    "- **Lists, Tuples, Dictionaries, and more**: For storing collections of data\n",
    "\n",
    "### 3. What We'll Cover:\n",
    "1. **Variable Declarations**: How to create and assign values to variables.\n",
    "2. **Data Types**: Exploring the different types of data in Python.\n",
    "3. **Operations**: Performing arithmetic, string manipulation, and comparisons.\n",
    "4. **Built-in Functions**: Using Python's built-in tools to work with variables and data types.\n",
    "\n",
    "*Each section includes practical examples and demonstrations to help you understand how these concepts work in real Python code.*\n"
   ]
  },
  {
   "cell_type": "markdown",
   "metadata": {},
   "source": [
    "### What Does This Exercise Do?\n",
    "\n",
    "1. **Requests Data from the User**:\n",
    "   - The user is prompted to enter their first name, last name, country, city, age, current year, and marital status.\n",
    "   - The data is stored in variables with specific data types (`str`, `int`, `bool`).\n",
    "\n",
    "2. **Processes the Data**:\n",
    "   - Combines the first name and last name to create a full name.\n",
    "   - Converts user input to the correct data types (e.g., `age` and `year` are converted to integers).\n",
    "\n",
    "3. **Displays the Data**:\n",
    "   - The data entered by the user is printed to the console in a structured format."
   ]
  },
  {
   "cell_type": "code",
   "execution_count": null,
   "metadata": {},
   "outputs": [],
   "source": [
    "\n",
    "# Request user information\n",
    "first_name = input(\"Write your first name: \")                            # String\n",
    "last_name = input(\"Write your last name: \")                              # String\n",
    "country = input(\"Write your country: \")                                  # String\n",
    "city = input(\"Write your city: \")                                        # String\n",
    "age = int(input(\"Write your age: \"))                                     # Integer\n",
    "year = int(input(\"Write the current year: \"))                            # Integer\n",
    "is_married = input(\"Are you married? (True/False): \").lower() == \"true\"  # Boolean\n",
    "\n",
    "# Combine full name\n",
    "full_name = f\"{first_name} {last_name}\"\n",
    "\n",
    "# Show user information\n",
    "print(\"\\n--- User Information ---\")\n",
    "print(f\"First name: {first_name}\")\n",
    "print(f\"Last name: {last_name}\")\n",
    "print(f\"Full name: {full_name}\")\n",
    "print(f\"Country: {country}\")\n",
    "print(f\"City: {city}\")\n",
    "print(f\"Age: {age}\")\n",
    "print(f\"Year: {year}\")\n",
    "print(f\"Is married: {is_married}\")"
   ]
  },
  {
   "cell_type": "markdown",
   "metadata": {},
   "source": [
    "### Working with Multiple Variables\n",
    "\n",
    "This section demonstrates how to work with multiple variables declared in a single line, including checking their data types and lengths.\n",
    "\n",
    "**Length Processing:**\n",
    "\n",
    "- Calculates the length of string variables\n",
    "- Includes additional variables from previous exercise (first_name, last_name, etc.)\n",
    "- Converts year to string before calculating its length\n",
    "\n",
    "**Results Visualization:**\n",
    "\n",
    "1. Initial data is displayed using print\n",
    "2. Shows a list with string lengths\n",
    "3. Displays a formatted summary of data types"
   ]
  },
  {
   "cell_type": "code",
   "execution_count": 26,
   "metadata": {},
   "outputs": [
    {
     "name": "stdout",
     "output_type": "stream",
     "text": [
      "padington Infantil 222 6.2 True\n",
      "[9, 8, 1, 1, 1, 1, 1]\n",
      "pelicula: <class 'str'>\n",
      "genero: <class 'str'>\n",
      "duración: <class 'int'>\n",
      "calificación: <class 'float'>\n",
      "recomendable: <class 'bool'>\n"
     ]
    }
   ],
   "source": [
    "pelicula, genero, duración, calificación, recomendable = \"padington\", \"Infantil\", 222, 6.2, True;\n",
    "print(pelicula, genero, duración, calificación, recomendable);\n",
    "\n",
    "\n",
    "#Day 2: 30 Days of python programming - Second part\n",
    "types = [type(var) for var in (pelicula, genero, duración, calificación, recomendable)];\n",
    "\n",
    "print([len(var)for var in (pelicula, genero, first_name, last_name, country, city, str(year))]);\n",
    "print(f\"pelicula: {types[0]}\")\n",
    "print(f\"genero: {types[1]}\")\n",
    "print(f\"duración: {types[2]}\")\n",
    "print(f\"calificación: {types[3]}\")\n",
    "print(f\"recomendable: {types[4]}\")\n",
    "\n"
   ]
  },
  {
   "cell_type": "markdown",
   "metadata": {},
   "source": [
    "### Length Comparation\n",
    "\n",
    "**Processing Steps:**\n",
    "1. This code asks the user for their first and last name \n",
    "2. Calculates the length of each name, and compares them to check if the first name is longer than the last name, it uses `input()` to get user data and `len()` to measure string lengths. \n",
    "3. Finally it prints the comparison result (`True` or `False`)."
   ]
  },
  {
   "cell_type": "code",
   "execution_count": 21,
   "metadata": {},
   "outputs": [
    {
     "name": "stdout",
     "output_type": "stream",
     "text": [
      "3\n",
      "3\n",
      "False\n"
     ]
    }
   ],
   "source": [
    "# Request user information\n",
    "first_name = input(\"Write your first name: \")                            # String\n",
    "last_name = input(\"Write your last name: \")                              # String\n",
    "\n",
    "# Calculate the length of the first name and last name\n",
    "first_name_len = len(first_name);\n",
    "print(first_name_len);\n",
    "last_name_len = len(last_name);\n",
    "print(last_name_len);\n",
    "\n",
    "# Compare the length of the first name and the last name\n",
    "comparison = first_name_len > last_name_len;\n",
    "print(comparison);\n"
   ]
  },
  {
   "cell_type": "markdown",
   "metadata": {},
   "source": [
    "### Arithmetic Operations with User Input\n",
    "\n",
    "This code demonstrates how to perform basic arithmetic operations using two numbers provided by the user. It showcases the use of Python's `input()` function to collect data and performs the following operations:\n",
    "\n",
    "1. **Addition**\n",
    "2. **Subtraction**\n",
    "3. **Multiplication**\n",
    "4. **Division**\n",
    "5. **Remainder (Modulus)**\n",
    "6. **Exponentiation**\n",
    "7. **Floor Division**\n",
    "\n",
    "The results are displayed in a clean and readable format using `f-strings`. This example is a great way to understand how to work with user input and perform calculations in Python."
   ]
  },
  {
   "cell_type": "code",
   "execution_count": null,
   "metadata": {},
   "outputs": [],
   "source": [
    "# Input Function\n",
    "# Prompt the user to enter two numbers and convert them to integers\n",
    "num_one = int(input(\"Write the first number: \"))  # First number\n",
    "num_two = int(input(\"Write the second number: \"))  # Second number\n",
    "\n",
    "# Arithmetic Operations\n",
    "# Perform basic arithmetic operations on the two numbers\n",
    "total = num_one + num_two                 # Addition\n",
    "difference = num_one - num_two            # Subtraction\n",
    "product = num_one * num_two               # Multiplication\n",
    "division = num_one / num_two              # Division\n",
    "remainder = num_two % num_one             # Remainder (modulus)\n",
    "exponent = num_one ** num_two             # Exponentiation\n",
    "floor_division = num_one // num_two       # Floor division\n",
    "\n",
    "# Print the Results\n",
    "# Display the results of all operations in a clean and readable format\n",
    "print(f\"Addition: {total}\")\n",
    "print(f\"Subtraction: {difference}\")\n",
    "print(f\"Multiplication: {product}\")\n",
    "print(f\"Division: {division}\")\n",
    "print(f\"Remainder: {remainder}\")\n",
    "print(f\"Exponent: {exponent}\")\n",
    "print(f\"Floor Division: {floor_division}\")"
   ]
  },
  {
   "cell_type": "markdown",
   "metadata": {},
   "source": [
    "## Area and circumference of a circle\n",
    "\n",
    "This python code calculates the area and circumference of a circle, based on the radius provided by the user\n",
    "\n",
    "1. **Area**: πr²\n",
    "2. **Circumference**: 2πr\n",
    "\n"
   ]
  },
  {
   "cell_type": "code",
   "execution_count": null,
   "metadata": {},
   "outputs": [],
   "source": [
    "# This program calculates the area and circumference of a circle\n",
    "\n",
    "# Prompt the user to enter the radius of the circle\n",
    "radius = int(input(\"Enter the radius of the circle: \"))\n",
    "\n",
    "# Calculate the area of the circle using the formula πr^2\n",
    "area_of_circle = 3.14 * (radius)**2\n",
    "\n",
    "# Calculate the circumference of the circle using the formula 2πr\n",
    "circum_of_circle = 3.14 * (2 * radius)\n",
    "\n",
    "# Print the area and circumference of the circle\n",
    "print(f\"The area of the circle is: {area_of_circle}\\n\",\n",
    "      f\"The circumference of the circle is: {circum_of_circle}\\n\")\n"
   ]
  }
 ],
 "metadata": {
  "kernelspec": {
   "display_name": "Python 3",
   "language": "python",
   "name": "python3"
  },
  "language_info": {
   "codemirror_mode": {
    "name": "ipython",
    "version": 3
   },
   "file_extension": ".py",
   "mimetype": "text/x-python",
   "name": "python",
   "nbconvert_exporter": "python",
   "pygments_lexer": "ipython3",
   "version": "3.11.9"
  }
 },
 "nbformat": 4,
 "nbformat_minor": 2
}
