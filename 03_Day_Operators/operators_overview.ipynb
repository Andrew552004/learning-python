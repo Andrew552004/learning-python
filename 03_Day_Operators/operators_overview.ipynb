{
 "cells": [
  {
   "cell_type": "markdown",
   "metadata": {},
   "source": [
    "# Python operators tutorial\n",
    "## 1. Introductions to operators\n",
    "In the past few days, we have explored different types of operators in Python. In this section, we will specifically review these concepts and work through some exercises to reinforce our understanding of today's topic.\n",
    "\n",
    "### What are operators in python?\n",
    "Operators in Python are special symbols or keywords used to perform operations on variables and values. They allow us to manipulate data and perform computations efficiently.\n",
    "\n",
    "-  **Arithmetic Operators:** Perform mathematical operations (e.g., +, -, *, /, %).\n",
    "-  **Comparison Operators:** Compare values and return True or False (e.g., ==, !=, <, >).\n",
    "-  **Logical Operators:** Combine conditional statements (e.g., and, or, not).\n",
    "-  **Bitwise Operators:** Perform operations at the binary level (e.g., &, |, ^).\n",
    "-  **Assignment Operators:** Assign values to variables (e.g., =, +=, -=).\n",
    "-  **Membership Operators:** Check for membership in sequences (e.g., in, not in).\n",
    "-  **Identity Operators:** Compare object identity (e.g., is, is not)."
   ]
  },
  {
   "cell_type": "markdown",
   "metadata": {},
   "source": [
    "### Prectice Exercises"
   ]
  },
  {
   "cell_type": "markdown",
   "metadata": {},
   "source": [
    "**Arithmetic Operators**"
   ]
  },
  {
   "cell_type": "code",
   "execution_count": null,
   "metadata": {},
   "outputs": [],
   "source": [
    "a = 10\n",
    "b = 3\n",
    "\n",
    "sum_result = a + b\n",
    "difference = a - b\n",
    "product = a * b\n",
    "quotient = a / b\n",
    "remainder = a % b\n",
    "\n",
    "print(\"Sum:\", sum_result)\n",
    "print(\"Difference:\", difference)\n",
    "print(\"Product:\", product)\n",
    "print(\"Quotient:\", quotient)\n",
    "print(\"Remainder:\", remainder)\n"
   ]
  },
  {
   "cell_type": "markdown",
   "metadata": {},
   "source": [
    "**Comparison Operators**"
   ]
  },
  {
   "cell_type": "code",
   "execution_count": null,
   "metadata": {},
   "outputs": [],
   "source": [
    "x = 5\n",
    "y = 10\n",
    "\n",
    "print(\"Is x equal to y?\", x == y)\n",
    "print(\"Is x different from y?\", x != y)\n",
    "print(\"Is x greater than y?\", x > y)\n",
    "print(\"Is x less than or equal to y?\", x <= y)\n"
   ]
  },
  {
   "cell_type": "markdown",
   "metadata": {},
   "source": [
    "**Logical Operators**"
   ]
  },
  {
   "cell_type": "code",
   "execution_count": null,
   "metadata": {},
   "outputs": [],
   "source": [
    "p = True\n",
    "q = False\n",
    "\n",
    "print(\"p and q:\", p and q)\n",
    "print(\"p or q:\", p or q)\n",
    "print(\"not p:\", not p)\n"
   ]
  },
  {
   "cell_type": "markdown",
   "metadata": {},
   "source": [
    "**Bitwise Operators**"
   ]
  },
  {
   "cell_type": "code",
   "execution_count": null,
   "metadata": {},
   "outputs": [
    {
     "name": "stdout",
     "output_type": "stream",
     "text": [
      "Bitwise AND: 2\n",
      "Bitwise OR: 7\n",
      "Bitwise XOR: 5\n",
      "Bitwise NOT (~m): -7\n"
     ]
    }
   ],
   "source": [
    "m = 6  # 110 in binary\n",
    "n = 3  # 011 in binary\n",
    "\n",
    "print(\"Bitwise AND:\", m & n)    # 010 (2)\n",
    "print(\"Bitwise OR:\", m | n)     # 111 (7)\n",
    "print(\"Bitwise XOR:\", m ^ n)    # 101 (5)\n",
    "print(\"Bitwise NOT (~m):\", ~m)  # -7 (Complement 2 a 6)\n"
   ]
  },
  {
   "cell_type": "markdown",
   "metadata": {},
   "source": [
    "**Assignment Operators**"
   ]
  },
  {
   "cell_type": "code",
   "execution_count": null,
   "metadata": {},
   "outputs": [],
   "source": [
    "num = 5\n",
    "num += 2  # num = num + 2\n",
    "print(\"After +=:\", num)\n",
    "\n",
    "num *= 3  # num = num * 3\n",
    "print(\"After *=:\", num)\n",
    "\n",
    "num -= 4  # num = num - 4\n",
    "print(\"After -=:\", num)\n",
    "\n",
    "num //= 2  # num = num // 2\n",
    "print(\"After //=:\", num)\n"
   ]
  },
  {
   "cell_type": "markdown",
   "metadata": {},
   "source": [
    "**Membership Operators**"
   ]
  },
  {
   "cell_type": "code",
   "execution_count": null,
   "metadata": {},
   "outputs": [],
   "source": [
    "text = \"Hello, Python!\"\n",
    "print(\"'P' in text:\", \"P\" in text)\n",
    "print(\"'z' not in text:\", \"z\" not in text)\n"
   ]
  },
  {
   "cell_type": "markdown",
   "metadata": {},
   "source": [
    "**Identity Operators**"
   ]
  },
  {
   "cell_type": "code",
   "execution_count": null,
   "metadata": {},
   "outputs": [],
   "source": [
    "a = [1, 2, 3]\n",
    "b = a           # Both variables point to the same list\n",
    "c = [1, 2, 3]   # It is a new list, even if it has the same values\n",
    "\n",
    "print(\"a is b:\", a is b)  \n",
    "print(\"a is not c:\", a is not c)  \n",
    "print(\"a == c:\", a == c)            # True cause they have the same values\n"
   ]
  },
  {
   "cell_type": "markdown",
   "metadata": {},
   "source": [
    "### What did I learn?"
   ]
  },
  {
   "cell_type": "markdown",
   "metadata": {},
   "source": [
    "1. I can define the data type I want the user to input in a single line."
   ]
  },
  {
   "cell_type": "code",
   "execution_count": null,
   "metadata": {},
   "outputs": [],
   "source": [
    "# Example:\n",
    "age = int(input(\"Enter your age: \"))\n",
    "height = float(input(\"Enter your height: \"))\n"
   ]
  },
  {
   "cell_type": "markdown",
   "metadata": {},
   "source": [
    "2. Formulas follow the order of operations."
   ]
  },
  {
   "cell_type": "code",
   "execution_count": null,
   "metadata": {},
   "outputs": [],
   "source": [
    "# Example:\n",
    "result = 10 + 5 * 2  # Multiplication happens before addition\n",
    "print(result)        # Output: 20\n"
   ]
  },
  {
   "cell_type": "markdown",
   "metadata": {},
   "source": [
    "3. I can check the length of a string and verify if it contains a specific character using membership operators."
   ]
  },
  {
   "cell_type": "code",
   "execution_count": null,
   "metadata": {},
   "outputs": [],
   "source": [
    "# Example:\n",
    "text = \"Python\"\n",
    "print(len(text))    # Output: 6\n",
    "print(\"y\" in text)  # Output: True\n"
   ]
  },
  {
   "cell_type": "markdown",
   "metadata": {},
   "source": [
    "4. I can perform type conversions between different data types."
   ]
  },
  {
   "cell_type": "code",
   "execution_count": null,
   "metadata": {},
   "outputs": [],
   "source": [
    "# Example:\n",
    "num = 10\n",
    "num_str = str(num)      # Convert integer to string\n",
    "num_float = float(num)  # Convert integer to float\n",
    "print(num_str, num_float)\n"
   ]
  },
  {
   "cell_type": "markdown",
   "metadata": {},
   "source": [
    "5. I learned how to print matrices."
   ]
  },
  {
   "cell_type": "code",
   "execution_count": null,
   "metadata": {},
   "outputs": [],
   "source": [
    "# Example:\n",
    "matrix = [\n",
    "    [1, 2, 3],\n",
    "    [4, 5, 6],\n",
    "    [7, 8, 9]\n",
    "]\n",
    "for row in matrix:\n",
    "    print(row)\n"
   ]
  },
  {
   "cell_type": "markdown",
   "metadata": {},
   "source": [
    "6. I can use a conditional statement to format and print a matrix using f-strings and logic."
   ]
  },
  {
   "cell_type": "code",
   "execution_count": 9,
   "metadata": {},
   "outputs": [
    {
     "name": "stdout",
     "output_type": "stream",
     "text": [
      "1 1 1 1 1\n",
      "2 1 2 4 8\n",
      "3 1 3 9 27\n",
      "4 1 4 16 64\n",
      "5 1 5 25 125\n"
     ]
    }
   ],
   "source": [
    "# Example:\n",
    "for i in range(1, 6):\n",
    "    print(f\"{i} {1} {i} {i**2} {i**3}\")\n"
   ]
  }
 ],
 "metadata": {
  "kernelspec": {
   "display_name": "Python 3",
   "language": "python",
   "name": "python3"
  },
  "language_info": {
   "codemirror_mode": {
    "name": "ipython",
    "version": 3
   },
   "file_extension": ".py",
   "mimetype": "text/x-python",
   "name": "python",
   "nbconvert_exporter": "python",
   "pygments_lexer": "ipython3",
   "version": "3.11.9"
  }
 },
 "nbformat": 4,
 "nbformat_minor": 2
}
