{
 "cells": [
  {
   "cell_type": "markdown",
   "metadata": {},
   "source": [
    "# Data types in python and operations\n",
    "\n",
    "## Introduction\n",
    "\n",
    "Python is a dynamically typed language that provides a rich set of data types and operators. Understanding these fundamentals is essential for effective programming.\n",
    "\n",
    "### What are Data Types?\n",
    "Data types define the nature of data that a computer can process, store, and manipulate. They determine:\n",
    "- How the data is stored in memory\n",
    "- What operations can be performed on it\n",
    "- The methods and functions available for that data\n",
    "\n",
    "### What We'll Cover:\n",
    "1. **Basic Data Types**\n",
    "   - Numbers (Integer, Float, Complex)\n",
    "   - Strings\n",
    "   - Boolean\n",
    "\n",
    "2. **Collection Data Types**\n",
    "   - Lists\n",
    "   - Dictionaries\n",
    "   - Sets\n",
    "   - Tuples\n",
    "\n",
    "3. **Operators**\n",
    "   - Arithmetic operators\n",
    "   - Relational operators\n",
    "   - Assignment operators\n",
    "   - Bitwise operators\n",
    "\n",
    "Each section includes practical examples and demonstrations to help you understand how these concepts work in real Python code."
   ]
  },
  {
   "cell_type": "markdown",
   "metadata": {},
   "source": [
    "**Data Types**"
   ]
  },
  {
   "cell_type": "code",
   "execution_count": null,
   "metadata": {},
   "outputs": [],
   "source": [
    "print(type(10))                  # Int (∞, 0, -∞)\n",
    "print(type(3.14))                # Float  (Represent real numbers with a decimal point)\n",
    "print(type(1 + 3j))              # Complex (Had a real part and another it's an imaginary unit)\n",
    "print(type('Asabeneh'))          # String (Sequence of character, commonly use to represent text)\n",
    "print(type([1, 2, 3]))           # List (Data estructure, can be mutable or changeable, each item it's ordered)\n",
    "print(type({'name':'Asabeneh'})) # Dictionary (Data structure that stores the value in key: value pairs, can be of any data type and can be duplicated)\n",
    "print(type({9.8, 3.14, 2.7}))    # Set (Data structure used to store several items in a single variable, the data can't be duplicated and be messy.)\n",
    "print(type((9.8, 3.14, 2.7)))    # Tuple (immutable collection of various data type elements)\n",
    "print(type(3 == 3))              # Bool ( used to store two values, True and False)\n",
    "print(type(3 >= 3))              # Bool"
   ]
  },
  {
   "cell_type": "markdown",
   "metadata": {},
   "source": [
    "**Operators**"
   ]
  },
  {
   "cell_type": "code",
   "execution_count": null,
   "metadata": {},
   "outputs": [],
   "source": [
    "# Arithmetics operators (+,-,*,/,%,**,//)\n",
    "\n",
    "print(10 + 3.14)    #Addition\n",
    "print(4 - 2)        #Sustraction       \n",
    "print(9 * 4)        #Multiplication\n",
    "print(42/2)         #Division\n",
    "print(30 % 3)       #Module\n",
    "print(2 ** 3)       #Powers\n",
    "print(50 // 5.5)    #Int Quotient"
   ]
  },
  {
   "cell_type": "code",
   "execution_count": null,
   "metadata": {},
   "outputs": [],
   "source": [
    "#Relational operators (>, <, == , >=, <=, !=)\n",
    "\n",
    "print(10 > 3.14)    # Greater than\n",
    "print(4 < 2)        # Less than\n",
    "print(9 == 4)       # Equal to\n",
    "# print(9 = 4)        \"=\" In python it's used for assigmment\n",
    "print(42 >= 2)      # Greater than or Equal to\n",
    "print(30 <= 3)      # Less than or Equal to\n",
    "print(2 != 3)       #  Distinct or different to"
   ]
  },
  {
   "cell_type": "markdown",
   "metadata": {},
   "source": [
    "### Interactive exercise: ###\n",
    "\n",
    "In this secttion, you'll see how assignment and bitwise operators work trought an interactive example. \n",
    "\n",
    "The program will:\n",
    "1. Take a positive number as input\n",
    "2. Apply different assignment operators\n",
    "3. Show you how bitwise operations transform the value step by step\n",
    "\n",
    "This hands -on exercise will help you understand:\n",
    "- How assignment operators modify variables\n",
    "- How bitwise operations work with binary numbers\n",
    "- The relationship beetween mathematical and bitwise operations\n",
    "\n",
    "Let's get started!!!!\n",
    "    \n",
    "\n",
    "**ASSIGMENT**"
   ]
  },
  {
   "cell_type": "code",
   "execution_count": 13,
   "metadata": {},
   "outputs": [
    {
     "name": "stdout",
     "output_type": "stream",
     "text": [
      "Please enter a number greater than zero.\n",
      "Invalid input. Please enter a valid number.\n",
      "Please enter a number greater than zero.\n",
      "Initial variable: 70.0\n"
     ]
    }
   ],
   "source": [
    "# Demonstration of assignment and bitwise operators\n",
    "# ( =, +=, -=, *=, /=, %=, **=, //=, &=, |=, ^=, >>=, <<=)\n",
    "\n",
    "# Loop to ensure only positive numbers are accepted\n",
    "while True:\n",
    "    try:\n",
    "        # Prompt the user to enter a number and convert it to a float\n",
    "        variable = float(input(\"Enter a positive number: \"))\n",
    "        \n",
    "        # Check if the entered number is positive\n",
    "        if variable > 0:\n",
    "            break  # Exit the loop if the number is positive\n",
    "        else:\n",
    "            print(\"Please enter a number greater than zero.\")\n",
    "    except ValueError:\n",
    "        print(\"Invalid input. Please enter a valid number.\")\n",
    "\n",
    "# Print the initial value of the variable\n",
    "print(f\"Initial variable:\", variable)\n"
   ]
  },
  {
   "cell_type": "markdown",
   "metadata": {},
   "source": [
    "This operator add 7 to the actual variable value."
   ]
  },
  {
   "cell_type": "code",
   "execution_count": 2,
   "metadata": {},
   "outputs": [
    {
     "name": "stdout",
     "output_type": "stream",
     "text": [
      "Addition assigment: 10.0\n"
     ]
    }
   ],
   "source": [
    "variable += 7                                \n",
    "print(f\"Addition assigment:\",variable)    "
   ]
  },
  {
   "cell_type": "markdown",
   "metadata": {},
   "source": [
    "This operator substract 10 to the actual variable value"
   ]
  },
  {
   "cell_type": "code",
   "execution_count": 3,
   "metadata": {},
   "outputs": [
    {
     "name": "stdout",
     "output_type": "stream",
     "text": [
      "Substraction assigment: 0.0\n"
     ]
    }
   ],
   "source": [
    "variable -= 10                                \n",
    "print(f\"Substraction assigment:\",variable)    \n"
   ]
  },
  {
   "cell_type": "markdown",
   "metadata": {},
   "source": [
    "This operator divides the variable by 9."
   ]
  },
  {
   "cell_type": "code",
   "execution_count": 4,
   "metadata": {},
   "outputs": [
    {
     "name": "stdout",
     "output_type": "stream",
     "text": [
      "Division assigment: 0.0\n"
     ]
    }
   ],
   "source": [
    "variable /= 9                                 \n",
    "print(f\"Division assigment:\",variable)    "
   ]
  },
  {
   "cell_type": "markdown",
   "metadata": {},
   "source": [
    "This operator give the remainder of the division for two numbers, variable and 10"
   ]
  },
  {
   "cell_type": "code",
   "execution_count": 5,
   "metadata": {},
   "outputs": [
    {
     "name": "stdout",
     "output_type": "stream",
     "text": [
      "Module assigment: 0.0\n"
     ]
    }
   ],
   "source": [
    "\n",
    "variable %= 10                                \n",
    "print(f\"Module assigment:\",variable)"
   ]
  },
  {
   "cell_type": "markdown",
   "metadata": {},
   "source": [
    "This operator takes 11 and raises the variable to that power."
   ]
  },
  {
   "cell_type": "code",
   "execution_count": 14,
   "metadata": {},
   "outputs": [
    {
     "name": "stdout",
     "output_type": "stream",
     "text": [
      "Powers assigment: 1.977326743e+20\n"
     ]
    }
   ],
   "source": [
    "variable **= 11                            \n",
    "print(f\"Powers assigment:\",variable)"
   ]
  },
  {
   "cell_type": "markdown",
   "metadata": {},
   "source": [
    "This operator divides the variable by 12 but the quotient will be an integer."
   ]
  },
  {
   "cell_type": "code",
   "execution_count": 7,
   "metadata": {},
   "outputs": [
    {
     "name": "stdout",
     "output_type": "stream",
     "text": [
      "Floor division assigment: 0.0\n"
     ]
    }
   ],
   "source": [
    "\n",
    "variable //= 12                               \n",
    "print(f\"Floor division assigment:\",variable)"
   ]
  },
  {
   "cell_type": "markdown",
   "metadata": {},
   "source": [
    "**BITWISE**"
   ]
  },
  {
   "cell_type": "markdown",
   "metadata": {},
   "source": [
    "This operator compare bitwise and return one if both of bits are one, else return zero"
   ]
  },
  {
   "cell_type": "code",
   "execution_count": 8,
   "metadata": {},
   "outputs": [
    {
     "name": "stdout",
     "output_type": "stream",
     "text": [
      "AND: 0\n"
     ]
    }
   ],
   "source": [
    "variable = int(variable)        # Convert \"variable\" from float to integer\n",
    "\n",
    "variable &= 13                  # Bitwise AND and assignment\n",
    "print(f\"AND:\",variable);\n"
   ]
  },
  {
   "cell_type": "markdown",
   "metadata": {},
   "source": [
    "This operator compare two bits and return one if at least one of them it's one, if both of them are zero, returns zero"
   ]
  },
  {
   "cell_type": "code",
   "execution_count": 9,
   "metadata": {},
   "outputs": [
    {
     "name": "stdout",
     "output_type": "stream",
     "text": [
      "OR: 14\n"
     ]
    }
   ],
   "source": [
    "variable = int(variable)        # Convert \"variable\" from float to integer \n",
    "\n",
    "variable |= 14                  # Bitwise OR and assignment\n",
    "print(f\"OR:\",variable)"
   ]
  },
  {
   "cell_type": "markdown",
   "metadata": {},
   "source": [
    "This operator compare two bits and returns one if both of them are differents, if are equals return zero"
   ]
  },
  {
   "cell_type": "code",
   "execution_count": 10,
   "metadata": {},
   "outputs": [
    {
     "name": "stdout",
     "output_type": "stream",
     "text": [
      "XOR: 1\n"
     ]
    }
   ],
   "source": [
    "variable = int(variable)        # Convert \"variable\" from float to integer \n",
    "\n",
    "variable ^= 15                  # Bitwise XOR and assignment\n",
    "print(f\"XOR:\",variable)"
   ]
  },
  {
   "cell_type": "markdown",
   "metadata": {},
   "source": [
    "This operator move the bits of one number to the right, it's like divide varible by two for each position that moves, the bits lose it will be replaced by zero from the left"
   ]
  },
  {
   "cell_type": "code",
   "execution_count": 11,
   "metadata": {},
   "outputs": [
    {
     "name": "stdout",
     "output_type": "stream",
     "text": [
      "R-Shift: 0\n"
     ]
    }
   ],
   "source": [
    "variable = int(variable)        # Convert \"variable\" from float to integer \n",
    "variable >>= 16                 # Right shift and assignment\n",
    "print(f\"R-Shift:\",variable)\n"
   ]
  },
  {
   "cell_type": "markdown",
   "metadata": {},
   "source": [
    "This operator move the bits of one number to the left, it's like multiplying varible by two for each position that moves"
   ]
  },
  {
   "cell_type": "code",
   "execution_count": 12,
   "metadata": {},
   "outputs": [
    {
     "name": "stdout",
     "output_type": "stream",
     "text": [
      "L-Shift: 0\n"
     ]
    }
   ],
   "source": [
    "variable = int(variable)        # Convert \"variable\" from float to integer \n",
    "\n",
    "variable <<= 17                 # Left shift and assignment\n",
    "print(f\"L-Shift:\",variable)"
   ]
  }
 ],
 "metadata": {
  "kernelspec": {
   "display_name": "Python 3",
   "language": "python",
   "name": "python3"
  },
  "language_info": {
   "codemirror_mode": {
    "name": "ipython",
    "version": 3
   },
   "file_extension": ".py",
   "mimetype": "text/x-python",
   "name": "python",
   "nbconvert_exporter": "python",
   "pygments_lexer": "ipython3",
   "version": "3.11.9"
  }
 },
 "nbformat": 4,
 "nbformat_minor": 2
}
